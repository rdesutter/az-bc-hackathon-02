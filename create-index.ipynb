{
  "cells": [
    {
      "cell_type": "markdown",
      "metadata": {},
      "source": [
        "# Create AI Search - Index for Avatar Demo"
      ]
    },
    {
      "cell_type": "markdown",
      "metadata": {
        "nteract": {
          "transient": {
            "deleting": false
          }
        }
      },
      "source": [
        "## Setup"
      ]
    },
    {
      "cell_type": "code",
      "execution_count": null,
      "metadata": {
        "gather": {
          "logged": 1700038369590
        }
      },
      "outputs": [],
      "source": [
        "# Install the required libraries\n",
        "%pip install azure-search-documents==11.4.0b6 openai==0.28.1 tenacity requests matplotlib"
      ]
    },
    {
      "cell_type": "code",
      "execution_count": null,
      "metadata": {
        "gather": {
          "logged": 1700038372029
        }
      },
      "outputs": [],
      "source": [
        "import os\n",
        "import json  \n",
        "import pandas as pd\n",
        "\n",
        "import pyodbc\n",
        "import requests\n",
        "import inspect\n",
        "\n",
        "import openai  \n",
        "from tenacity import retry, wait_random_exponential, stop_after_attempt  \n",
        "from azure.core.credentials import AzureKeyCredential  \n",
        "from azure.search.documents import SearchClient  \n",
        "from azure.search.documents.indexes import SearchIndexClient  \n",
        "from azure.search.documents.models import Vector  \n",
        "from azure.search.documents.indexes.models import (  \n",
        "    SearchIndex,  \n",
        "    SearchField,  \n",
        "    SearchFieldDataType,  \n",
        "    SimpleField,  \n",
        "    SearchableField,  \n",
        "    SearchIndex,  \n",
        "    SemanticConfiguration,  \n",
        "    PrioritizedFields,  \n",
        "    SemanticField,  \n",
        "    SearchField,  \n",
        "    SemanticSettings,  \n",
        "    VectorSearch,  \n",
        "    VectorSearchAlgorithmConfiguration,  \n",
        ")  "
      ]
    },
    {
      "cell_type": "markdown",
      "metadata": {
        "nteract": {
          "transient": {
            "deleting": false
          }
        }
      },
      "source": [
        "You need to have the following settings for your Azure resources defined in the `local.settings.json` file in the __api__ subfolder to populate the demo content for the outdoor app:"
      ]
    },
    {
      "cell_type": "code",
      "execution_count": null,
      "metadata": {
        "gather": {
          "logged": 1700038375485
        },
        "jupyter": {
          "outputs_hidden": false,
          "source_hidden": false
        },
        "nteract": {
          "transient": {
            "deleting": false
          }
        }
      },
      "outputs": [],
      "source": [
        "# Load JSON file\n",
        "with open('./api/local.settings.json', 'r') as file:\n",
        "    data = json.load(file)\n",
        "\n",
        "# Azure Cognitive Search\n",
        "service_endpoint = data[\"Values\"][\"AZURE_SEARCH_ENDPOINT\"]\n",
        "key = data[\"Values\"][\"AZURE_SEARCH_API_KEY\"]\n",
        "index_name = data[\"Values\"][\"AZURE_SEARCH_INDEX\"]\n",
        "\n",
        "# Blob SAS URL for Azure Storage Account\n",
        "blob_sas_url = data[\"Values\"][\"BLOB_SAS_URL\"]\n",
        "\n",
        "# Azure OpenAI\n",
        "openai.api_type = \"azure\"\n",
        "openai.api_key = data[\"Values\"][\"AZURE_OPENAI_API_KEY\"]\n",
        "openai.api_base = data[\"Values\"][\"AZURE_OPENAI_ENDPOINT\"]\n",
        "openai.api_version = data[\"Values\"][\"AZURE_OPENAI_API_VERSION\"]\n",
        "AOAI_embeddings_deployment = data[\"Values\"][\"AZURE_OPENAI_EMBEDDINGS_DEPLOYMENT\"]\n",
        "\n",
        "# Azure SQL Database\n",
        "sql_db_server = data[\"Values\"][\"SQL_DB_SERVER\"]\n",
        "sql_db_user = data[\"Values\"][\"SQL_DB_USER\"]\n",
        "sql_db_password = data[\"Values\"][\"SQL_DB_PASSWORD\"]\n",
        "sql_db_name = data[\"Values\"][\"SQL_DB_NAME\"]"
      ]
    },
    {
      "cell_type": "markdown",
      "metadata": {},
      "source": [
        "## Create Cognitive Search Index\n",
        "First, we create a new Index with demo data to the Cognitive Search service that you have deployed manually."
      ]
    },
    {
      "cell_type": "code",
      "execution_count": null,
      "metadata": {
        "gather": {
          "logged": 1699873170121
        },
        "jupyter": {
          "outputs_hidden": false,
          "source_hidden": false
        },
        "nteract": {
          "transient": {
            "deleting": false
          }
        }
      },
      "outputs": [],
      "source": [
        "credential = AzureKeyCredential(key)\n",
        "\n",
        "df = pd.read_csv('data/mb_products_cs_index.csv', dtype={'id': str})\n",
        "display(df.head())\n",
        "input_data = df.to_dict(orient='records')"
      ]
    },
    {
      "cell_type": "code",
      "execution_count": null,
      "metadata": {
        "gather": {
          "logged": 1699873170374
        }
      },
      "outputs": [],
      "source": [
        "@retry(wait=wait_random_exponential(min=1, max=20), stop=stop_after_attempt(6))\n",
        "# Function to generate embeddings for title and content fields, also used for query embeddings\n",
        "def generate_embeddings(text):\n",
        "    response = openai.Embedding.create(\n",
        "        input=text, engine=AOAI_embeddings_deployment)\n",
        "    embeddings = response['data'][0]['embedding']\n",
        "    return embeddings"
      ]
    },
    {
      "cell_type": "code",
      "execution_count": null,
      "metadata": {
        "gather": {
          "logged": 1699873171802
        },
        "jupyter": {
          "outputs_hidden": false,
          "source_hidden": false
        },
        "nteract": {
          "transient": {
            "deleting": false
          }
        }
      },
      "outputs": [],
      "source": [
        "# Generate embeddings for title and content fields\n",
        "for item in input_data:\n",
        "    tagline = item['tagline']\n",
        "    description = item['description']\n",
        "    tagline_embeddings = generate_embeddings(tagline)\n",
        "    description_embeddings = generate_embeddings(description)\n",
        "    item['tagline_vector'] = tagline_embeddings\n",
        "    item['description_vector'] = description_embeddings"
      ]
    },
    {
      "cell_type": "code",
      "execution_count": null,
      "metadata": {
        "gather": {
          "logged": 1699873171984
        }
      },
      "outputs": [],
      "source": [
        "# Output embeddings to docVectors.json file\n",
        "with open(\"./data/product-catalog-vectors.json\", \"w\") as f:\n",
        "    json.dump(input_data, f)"
      ]
    },
    {
      "cell_type": "code",
      "execution_count": null,
      "metadata": {
        "gather": {
          "logged": 1699873172252
        }
      },
      "outputs": [],
      "source": [
        "# Delete ACS index if it exists\n",
        "index_client = SearchIndexClient(endpoint=service_endpoint, credential=credential)\n",
        "\n",
        "try:\n",
        "    if index_client.get_index(index_name):\n",
        "        print('Deleting existing index...')\n",
        "        index_client.delete_index(index_name)\n",
        "\n",
        "except:\n",
        "    print('Index does not exist. No need to delete it.')"
      ]
    },
    {
      "cell_type": "code",
      "execution_count": null,
      "metadata": {
        "gather": {
          "logged": 1699873172892
        }
      },
      "outputs": [],
      "source": [
        "# Create a search index\n",
        "index_client = SearchIndexClient(endpoint=service_endpoint, credential=credential)\n",
        "\n",
        "fields = [\n",
        "    SimpleField(name=\"id\", type=SearchFieldDataType.String, key=True, sortable=True, filterable=True, facetable=True),\n",
        "    SearchableField(name=\"name\", type=SearchFieldDataType.String),\n",
        "    SearchableField(name=\"tagline\", type=SearchFieldDataType.String),\n",
        "    SearchableField(name=\"description\", type=SearchFieldDataType.String),\n",
        "    SimpleField(name=\"original_price\", type=SearchFieldDataType.Double),\n",
        "    SimpleField(name=\"special_offer\", type=SearchFieldDataType.Double),\n",
        "    SearchableField(name=\"category\", type=SearchFieldDataType.String, filterable=True),\n",
        "    SearchField(name=\"tagline_vector\", type=SearchFieldDataType.Collection(SearchFieldDataType.Single),\n",
        "                searchable=True, vector_search_dimensions=1536, vector_search_configuration=\"my-vector-config\"),\n",
        "    SearchField(name=\"description_vector\", type=SearchFieldDataType.Collection(SearchFieldDataType.Single),\n",
        "                searchable=True, vector_search_dimensions=1536, vector_search_configuration=\"my-vector-config\"),\n",
        "    SimpleField(name=\"product_image_file\", type=SearchFieldDataType.String),\n",
        "]\n",
        "\n",
        "vector_search = VectorSearch(\n",
        "    algorithm_configurations=[\n",
        "        VectorSearchAlgorithmConfiguration(\n",
        "            name=\"my-vector-config\",\n",
        "            kind=\"hnsw\",\n",
        "            hnsw_parameters={\n",
        "                \"m\": 4,\n",
        "                \"efConstruction\": 400,\n",
        "                \"efSearch\": 500,\n",
        "                \"metric\": \"cosine\"\n",
        "            }\n",
        "        )\n",
        "    ]\n",
        ")\n",
        "\n",
        "semantic_config = SemanticConfiguration(\n",
        "    name=\"my-semantic-config\",\n",
        "    prioritized_fields=PrioritizedFields(\n",
        "        title_field=SemanticField(field_name=\"tagline\"),\n",
        "        prioritized_keywords_fields=[SemanticField(field_name=\"category\")],\n",
        "        prioritized_content_fields=[SemanticField(field_name=\"description\")]\n",
        "    )\n",
        ")\n",
        "\n",
        "# Create the semantic settings with the configuration\n",
        "semantic_settings = SemanticSettings(configurations=[semantic_config])\n",
        "\n",
        "# Create the search index with the semantic settings\n",
        "index = SearchIndex(name=index_name, fields=fields,\n",
        "                    vector_search=vector_search, semantic_settings=semantic_settings)\n",
        "result = index_client.create_or_update_index(index)\n",
        "print(f' {result.name} created')"
      ]
    },
    {
      "cell_type": "code",
      "execution_count": null,
      "metadata": {
        "gather": {
          "logged": 1699873173454
        }
      },
      "outputs": [],
      "source": [
        "# Upload documents to the index\n",
        "with open(\"./data/product-catalog-vectors.json\", 'r') as file:  \n",
        "    documents = json.load(file)  \n",
        "search_client = SearchClient(endpoint=service_endpoint, index_name=index_name, credential=credential)\n",
        "result = search_client.upload_documents(documents)  \n",
        "print(f\"Uploaded {len(documents)} documents\") "
      ]
    },
    {
      "cell_type": "markdown",
      "metadata": {
        "nteract": {
          "transient": {
            "deleting": false
          }
        }
      },
      "source": [
        "## Perform Test Queries\n",
        "We are performing a few test queries against the Cognitive Search index. If successful, it should display outdoor product information and images."
      ]
    },
    {
      "cell_type": "code",
      "execution_count": null,
      "metadata": {
        "gather": {
          "logged": 1699873173581
        }
      },
      "outputs": [],
      "source": [
        "search_client = SearchClient(service_endpoint, index_name, credential=credential)  \n",
        "fields_of_interest = [\"id\", \"name\", \"tagline\", \"description\", \"original_price\", \"special_offer\", \"category\", \"product_image_file\"]"
      ]
    },
    {
      "cell_type": "code",
      "execution_count": null,
      "metadata": {
        "gather": {
          "logged": 1699873175487
        }
      },
      "outputs": [],
      "source": [
        "import requests\n",
        "from matplotlib import pyplot as plt\n",
        "from io import BytesIO\n",
        "\n",
        "def display_image_from_blob(image_file):\n",
        "   \n",
        "  # Append the image name to the SAS URL\n",
        "  image_url = blob_sas_url.split(\"?\")[0] + f\"/{image_file}?\" + blob_sas_url.split(\"?\")[1]\n",
        "  \n",
        "\n",
        "  # Get the image content\n",
        "  response = requests.get(image_url)\n",
        "  \n",
        "\n",
        "  # Check if the request was successful\n",
        "  if response.status_code == 200:\n",
        "      # Open the image and display it\n",
        "      img = plt.imread(BytesIO(response.content))\n",
        "      plt.imshow(img)\n",
        "      plt.axis('off') # No axes for this plot\n",
        "      plt.show()\n",
        "  else:\n",
        "      print(f\"Failed to retrieve image. HTTP Status code: {response.status_code}\")\n",
        "\n",
        "def print_results(results):  \n",
        "  for result in results:  \n",
        "    print(f\"Score: {result['@search.score']}\")\n",
        "    print(f\"Name: {result['name']}\")  \n",
        "    print(f\"Category: {result['category']}\")\n",
        "    print(f\"Tagline: {result['tagline']}\")\n",
        "    print(f\"Description: {result['description'][:50]}\")\n",
        "    print(f\"Original price: {result['original_price']}\")\n",
        "    print(f\"Special offer: {result['special_offer']}\")\n",
        "    print(f\"Image file: {result['product_image_file']}\\n\")\n",
        "    display_image_from_blob(result['product_image_file'])\n",
        "\n",
        "\n",
        "# Pure Vector Search with Filter\n",
        "query = \"Trek\"  \n",
        " \n",
        "results = search_client.search(  \n",
        "    search_text=None,  \n",
        "    vector=generate_embeddings(query), top_k=3,  \n",
        "    vector_fields=\"description_vector\",\n",
        "    filter=\"category eq 'outdoor'\",\n",
        "    select= fields_of_interest\n",
        ")  \n",
        "\n",
        "print_results(results)"
      ]
    }
  ],
  "metadata": {
    "kernel_info": {
      "name": "python310-sdkv2"
    },
    "kernelspec": {
      "display_name": "Python 3",
      "language": "python",
      "name": "python3"
    },
    "language_info": {
      "codemirror_mode": {
        "name": "ipython",
        "version": 3
      },
      "file_extension": ".py",
      "mimetype": "text/x-python",
      "name": "python",
      "nbconvert_exporter": "python",
      "pygments_lexer": "ipython3",
      "version": "3.12.2"
    },
    "microsoft": {
      "host": {
        "AzureML": {
          "notebookHasBeenCompleted": true
        }
      },
      "ms_spell_check": {
        "ms_spell_check_language": "en"
      }
    },
    "nteract": {
      "version": "nteract-front-end@1.0.0"
    },
    "orig_nbformat": 4
  },
  "nbformat": 4,
  "nbformat_minor": 2
}
